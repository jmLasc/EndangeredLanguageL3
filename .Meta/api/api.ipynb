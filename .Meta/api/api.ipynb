{
 "cells": [
  {
   "cell_type": "code",
   "execution_count": 7,
   "metadata": {},
   "outputs": [],
   "source": [
    "import requests\n",
    "import re\n",
    "import json"
   ]
  },
  {
   "cell_type": "code",
   "execution_count": 2,
   "metadata": {},
   "outputs": [],
   "source": [
    "url = \"https://e-dictionary.ilrdf.org.tw/wsReDictionary.htm\""
   ]
  },
  {
   "cell_type": "code",
   "execution_count": 3,
   "metadata": {},
   "outputs": [],
   "source": [
    "# Original dictionary\n",
    "original_dict = {\n",
    "    2: 'Amis',\n",
    "    6: 'Atayal',\n",
    "    24: 'Paiwan',\n",
    "    22: 'Bunun',\n",
    "    38: 'Puyma',\n",
    "    28: 'Rukai',\n",
    "    35: 'Tsou',\n",
    "    13: 'Saisiyat',\n",
    "    42: 'Yami',\n",
    "    14: 'Thao',\n",
    "    34: 'Kavalan',\n",
    "    33: 'Truku',\n",
    "    43: 'Sakizaya',\n",
    "    16: 'Seediq',\n",
    "    37: 'Saaroa',\n",
    "    36: 'Kanakanavu'\n",
    "}\n",
    "\n",
    "# Create a new dictionary with keys and values swapped\n",
    "tribes = {v: k for k, v in original_dict.items()}"
   ]
  },
  {
   "cell_type": "code",
   "execution_count": 4,
   "metadata": {},
   "outputs": [],
   "source": [
    "qw = \"a\""
   ]
  },
  {
   "cell_type": "code",
   "execution_count": 5,
   "metadata": {},
   "outputs": [],
   "source": [
    "ask_json = {\n",
    "    \"FMT\": 1,\n",
    "    \"account\": \"E202403005\",\n",
    "    \"TribesCode\": tribes['Amis'],\n",
    "    \"qw\": qw\n",
    "}\n",
    "\n",
    "jsn_response = requests.post(url, data=ask_json)\n"
   ]
  },
  {
   "cell_type": "code",
   "execution_count": 8,
   "metadata": {},
   "outputs": [],
   "source": [
    "text = json.loads(jsn_response.text)\n",
    "data = text[\"GenericData\"]\n",
    "real_response = data['DATA']"
   ]
  },
  {
   "cell_type": "code",
   "execution_count": 11,
   "metadata": {},
   "outputs": [
    {
     "data": {
      "text/plain": [
       "200"
      ]
     },
     "execution_count": 11,
     "metadata": {},
     "output_type": "execute_result"
    }
   ],
   "source": [
    "jsn_response.status_code"
   ]
  },
  {
   "cell_type": "code",
   "execution_count": 9,
   "metadata": {},
   "outputs": [
    {
     "data": {
      "text/plain": [
       "{'Original': \"O 'acefel no akong i lotok a miiloh kirawan.\",\n",
       " 'File': {'Name': '阿美語',\n",
       "  'Path': 'https://e-dictionary.ilrdf.org.tw/MultiMedia/Audio/ami/a_{1}_@_1.1.mp3'},\n",
       " 'Chinese': '那是阿公在山上燒的煙。'}"
      ]
     },
     "execution_count": 9,
     "metadata": {},
     "output_type": "execute_result"
    }
   ],
   "source": [
    "real_response[0]['Explanation'][0]['Sentence']"
   ]
  },
  {
   "cell_type": "code",
   "execution_count": 10,
   "metadata": {},
   "outputs": [
    {
     "data": {
      "text/plain": [
       "'她很喜歡參加宴會。'"
      ]
     },
     "execution_count": 10,
     "metadata": {},
     "output_type": "execute_result"
    }
   ],
   "source": [
    "real_response[1]['Explanation']['Sentence']['Chinese']"
   ]
  },
  {
   "cell_type": "code",
   "execution_count": null,
   "metadata": {},
   "outputs": [
    {
     "name": "stdout",
     "output_type": "stream",
     "text": [
      "0 \t a \t 那是阿公在山上燒的煙。\n",
      "7 \t akong \t 那小孩叫喊Mayaw為阿公。\n",
      "9 \t anini \t 現在幾點鐘？\n",
      "17 \t ako \t 由我來完成。\n",
      "21 \t aci \t 我在等阿基和巴奈。\n",
      "22 \t adada \t 我媽媽有胃病。\n",
      "28 \t adihayen \t 拿多一點！\n",
      "29 \t akaa \t 千萬不可開快車！\n",
      "55 \t aca \t 我只有一個孩子。\n",
      "57 \t adihay \t 池塘裏很多魚。\n",
      "61 \t ap^ap \t 田裡田雞的聲音很低沉。\n",
      "63 \t aro' \t 那位老師坐著教學。\n",
      "64 \t ato \t 阿基吃了魚和飯。\n"
     ]
    }
   ],
   "source": [
    "real_response[-1]['Name']\n",
    "for i, entry in enumerate(real_response):\n",
    "    word = entry[\"Name\"]\n",
    "    if isinstance(entry['Explanation'], list):\n",
    "        print(i, \"\\t\", word, \"\\t\", entry['Explanation'][0]['Sentence']['Chinese'])"
   ]
  },
  {
   "cell_type": "code",
   "execution_count": null,
   "metadata": {},
   "outputs": [
    {
     "name": "stdout",
     "output_type": "stream",
     "text": [
      "1 \t 'aciyos \t 那位女生有兩個髮旋。\n",
      "3 \t 'adidem \t 桑樹山上比較多。\n",
      "4 \t 'adif \t 那個木樹是叔叔用在田裡的圍牆。\n",
      "5 \t 'adifat \t 在山上有許多交叉的路使人會迷路。\n",
      "6 \t 'adimaceng \t 我們山上有很多無患子。\n",
      "8 \t aning \t 那小孩唯一感興趣的是表演和唱歌。\n",
      "10 \t asik \t 學童每天早上到校最先的工作是打掃。\n",
      "11 \t asip \t 我們昨晚所學的是朗讀和唱歌。\n",
      "12 \t aday^ayen \t 醫生很憐憫地照顧病重的人。\n",
      "13 \t alaf^afay \t 請給我溫水。\n",
      "14 \t aaya \t 她看到狗在走動驚嚇得一直叫哎呀。\n",
      "15 \t alamicohcoh \t 剛剛我們吃晚餐都在吮吸田螺。\n",
      "16 \t aenemay \t 狗有六隻小狗。\n",
      "18 \t alapakpakpakpak \t 聽巴奈唱歌的人個個都拍起手來。\n",
      "19 \t 'adecaw \t 花蓮盛產大理石。\n",
      "20 \t acek \t 我看大便就嫌臭噁心想吐。\n",
      "23 \t amid \t 他訂婚送給未婚妻的禮物是黃金項鍊和手鐲。\n",
      "24 \t apener \t 他們家的圍牆很矮。\n",
      "25 \t apiyan \t 鴉片是不好的東西。\n",
      "26 \t araaw \t 他非常渴望謀得一份工作。\n",
      "27 \t adahien \t 我對我的小孩的成績感到差強人意。\n",
      "30 \t akongaw \t 祖父（外公，爺爺，阿公）啊！吃午餐了！\n",
      "31 \t angcohen \t 老師嗅覺到這小孩有尿臭味。\n",
      "32 \t aefengen \t 没有可投擲的東西。\n",
      "33 \t anohoni \t 他待會就會回來。\n",
      "34 \t 'adicaw \t 花蓮有很多大理石。\n",
      "35 \t 'adingo \t 那個黑色的是我的影子。\n",
      "37 \t 'acicimay \t 孕婦很喜歡吃酸的。\n",
      "38 \t 'adepetay \t 那位老人家很吝嗇，不肯分享香蕉。\n",
      "39 \t acang \t 她很喜歡參加宴會。\n",
      "40 \t aday^ay \t 我的小孩看到乞丐都會起惻隠之心。\n",
      "41 \t ala \t 她採取竹筍當她們晚餐的菜餚。\n",
      "42 \t alatek \t 也許他們不會來了。\n",
      "43 \t angil \t 我今天很没精神。\n",
      "44 \t aoto' \t 他很容易生氣。 (字面義：他的氣很短。)\n",
      "45 \t apa \t 胡作非為會讓人貧窮。\n",
      "47 \t ayi \t 請把你手上的菜分一點給我。\n",
      "48 \t aamaen \t 部落裡有很多配稱祖母（外婆，奶奶，阿媽）的女士們。\n",
      "49 \t anaana \t 真是驚險差點從車上掉下來。\n",
      "50 \t alapacaliw \t 我們就分別借米給他。\n",
      "51 \t anocilaen \t 但願在明天完成打水泥的工作。\n",
      "52 \t aenem \t 有六個工作夥伴。\n",
      "53 \t 'acer \t 大陸已經完成了巨大的水壩。\n",
      "54 \t 'adeteng \t 麵包樹有很多樹汁。\n",
      "56 \t adahi \t 今天賣的菜没多少錢，但是比沒有收入好多了。\n",
      "58 \t ama \t Osay是Rengos的阿媽。\n",
      "59 \t anako' \t 杜耀因身體疼痛而發出呻吟。\n",
      "60 \t angcoh \t 嬰孩的襁褓通常都有尿騷味。\n",
      "62 \t apac \t 他到校遲到比準時還多。\n",
      "65 \t adadaay \t 病人真可憐。\n",
      "66 \t apeaped \t 你滿臉是粉末。\n",
      "67 \t aapeten \t 你要稱他是連襟。\n",
      "68 \t aasipen \t 我們今天要讀的是第五課課文。\n",
      "69 \t alakahokahot \t 没有糖了，因為小朋友個個都一把抓糖來拿。\n"
     ]
    }
   ],
   "source": [
    "for i, entry in enumerate(real_response):\n",
    "    word = entry[\"Name\"]\n",
    "    if isinstance(entry['Explanation'], dict) and isinstance(entry['Explanation']['Sentence'], dict):\n",
    "        print(i, \"\\t\", word, \"\\t\", entry['Explanation']['Sentence']['Chinese'])"
   ]
  },
  {
   "cell_type": "code",
   "execution_count": null,
   "metadata": {},
   "outputs": [
    {
     "data": {
      "text/plain": [
       "70"
      ]
     },
     "execution_count": 79,
     "metadata": {},
     "output_type": "execute_result"
    }
   ],
   "source": [
    "len(real_response)"
   ]
  },
  {
   "cell_type": "code",
   "execution_count": null,
   "metadata": {},
   "outputs": [
    {
     "name": "stdout",
     "output_type": "stream",
     "text": [
      "2 \t 'acocol \t 我們小時候玩的是陀螺。\n",
      "36 \t 'adipel \t 我們家没有圍牆。\n",
      "46 \t aped \t 這個是地瓜粉。\n"
     ]
    }
   ],
   "source": [
    "for i, entry in enumerate(real_response):\n",
    "    word = entry[\"Name\"]\n",
    "    if isinstance(entry['Explanation'], dict) and isinstance(entry['Explanation']['Sentence'], list):\n",
    "        print(i, \"\\t\", word, \"\\t\", entry['Explanation']['Sentence'][0]['Chinese'])"
   ]
  },
  {
   "cell_type": "code",
   "execution_count": null,
   "metadata": {},
   "outputs": [
    {
     "data": {
      "text/plain": [
       "{'Original': \"O 'acocol ko nisalamaan niyam yo mamangan ho.\",\n",
       " 'File': {'Name': '阿美語',\n",
       "  'Path': \"https://e-dictionary.ilrdf.org.tw/MultiMedia/Audio/ami/'acocol_{1}_@_1.1.mp3\"},\n",
       " 'Chinese': '我們小時候玩的是陀螺。'}"
      ]
     },
     "execution_count": 49,
     "metadata": {},
     "output_type": "execute_result"
    }
   ],
   "source": [
    "real_response[34]['Explanation']['Sentence'][0]"
   ]
  },
  {
   "cell_type": "code",
   "execution_count": null,
   "metadata": {},
   "outputs": [],
   "source": [
    "dtypes = {}\n",
    "for i, entry in enumerate(real_response):\n",
    "    key = str(type(entry['Explanation']))\n",
    "    if key not in dtypes.keys():\n",
    "        dtypes[key] = [i]\n",
    "    else:\n",
    "        dtypes[key].append(i)"
   ]
  },
  {
   "cell_type": "code",
   "execution_count": null,
   "metadata": {},
   "outputs": [
    {
     "data": {
      "text/plain": [
       "dict_keys([\"<class 'list'>\", \"<class 'dict'>\"])"
      ]
     },
     "execution_count": 26,
     "metadata": {},
     "output_type": "execute_result"
    }
   ],
   "source": [
    "dtypes.keys()"
   ]
  },
  {
   "cell_type": "code",
   "execution_count": null,
   "metadata": {},
   "outputs": [
    {
     "name": "stdout",
     "output_type": "stream",
     "text": [
      "<class 'list'>\n",
      "<class 'dict'>\n"
     ]
    }
   ],
   "source": [
    "for i in dtypes.keys():\n",
    "    print(i)"
   ]
  }
 ],
 "metadata": {
  "kernelspec": {
   "display_name": "Python 3",
   "language": "python",
   "name": "python3"
  },
  "language_info": {
   "codemirror_mode": {
    "name": "ipython",
    "version": 3
   },
   "file_extension": ".py",
   "mimetype": "text/x-python",
   "name": "python",
   "nbconvert_exporter": "python",
   "pygments_lexer": "ipython3",
   "version": "3.12.2"
  }
 },
 "nbformat": 4,
 "nbformat_minor": 2
}
