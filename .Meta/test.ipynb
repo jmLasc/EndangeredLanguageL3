{
 "cells": [
  {
   "cell_type": "code",
   "execution_count": 59,
   "metadata": {},
   "outputs": [],
   "source": [
    "# This code does the following\n",
    "# For each folder, process the \"..._final.txt\" file and make 2 versions\n",
    "# 1 - Remove all brackets\n",
    "# 2 - Remove all brackets and the text inside of the brackets\n",
    "\n",
    "import re\n",
    "import sys\n",
    "import os\n",
    "from pathlib import Path"
   ]
  },
  {
   "cell_type": "code",
   "execution_count": 60,
   "metadata": {},
   "outputs": [],
   "source": [
    "folders = [folder for folder in os.listdir(os.getcwd()) if os.path.isdir(folder) and not folder[0] == \".\"]"
   ]
  },
  {
   "cell_type": "code",
   "execution_count": 61,
   "metadata": {},
   "outputs": [],
   "source": [
    "for i, folder in enumerate(folders):\n",
    "    # Get final scraped file\n",
    "    final = [file for file in os.listdir(folder)]\n",
    "    final = [file for file in final if re.search(r\".*final.*\\.txt\", file.lower())]\n",
    "    if len(final) == 0:\n",
    "        print(\"\"\"fail: more than 1 file with the name in the form \"...final.txt\"\\nplease check filenames in folder {0}\"\"\".format(folder))\n",
    "\n",
    "    filepath = os.path.join(os.getcwd(), folder, final[0])\n",
    "    text = ''\n",
    "    with open(filepath, encoding='utf8') as f:\n",
    "        text += f.read()\n",
    "    \n",
    "    no_br = re.sub(r\"[\\(\\)\\[\\]\\（\\）]\", \" \", text)\n",
    "\n",
    "    no_br_no_te = re.sub(r\"\\(.*?\\)|\\[.*?\\]|\\（.*?\\）\", \"\", text)\n",
    "    no_br_no_te = re.sub(r\"[\\(\\)\\[\\]\\（\\）]\", \" \", no_br_no_te) # Catch leftovers\n",
    "\n",
    "    processed = [no_br, no_br_no_te]\n",
    "\n",
    "    fname = [folder + \"_no_br.txt\", folder + \"_no_br_no_te.txt\"]\n",
    "\n",
    "    for i, name in enumerate(fname):\n",
    "        fullpath = os.path.join(os.getcwd(), folder, name)\n",
    "        if name not in os.listdir(os.path.join(os.getcwd(), folder)):\n",
    "            Path(fullpath).touch()\n",
    "\n",
    "        with open(fullpath, 'w', encoding='utf8') as file:\n",
    "            file.write(processed[i])\n"
   ]
  }
 ],
 "metadata": {
  "kernelspec": {
   "display_name": "Python 3",
   "language": "python",
   "name": "python3"
  },
  "language_info": {
   "codemirror_mode": {
    "name": "ipython",
    "version": 3
   },
   "file_extension": ".py",
   "mimetype": "text/x-python",
   "name": "python",
   "nbconvert_exporter": "python",
   "pygments_lexer": "ipython3",
   "version": "3.12.2"
  }
 },
 "nbformat": 4,
 "nbformat_minor": 2
}
