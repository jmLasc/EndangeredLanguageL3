{
 "cells": [
  {
   "cell_type": "code",
   "execution_count": 32,
   "metadata": {},
   "outputs": [],
   "source": [
    "import re\n",
    "import sys\n",
    "import os\n",
    "import xml.etree.ElementTree as ET\n",
    "import xml.dom.minidom\n",
    "import xml\n",
    "import requests\n",
    "import json\n",
    "from pathlib import Path\n",
    "import PyPDF2 as ppdf\n",
    "import string\n",
    "import pickle\n",
    "from tqdm import tqdm\n",
    "from ratelimit import limits, sleep_and_retry"
   ]
  },
  {
   "cell_type": "code",
   "execution_count": 2,
   "metadata": {},
   "outputs": [],
   "source": [
    "NAMES = sorted([\n",
    "    'Amis',\n",
    "    'Atayal',\n",
    "    'Paiwan',\n",
    "    'Bunun',\n",
    "    'Puyma',\n",
    "    'Rukai',\n",
    "    'Tsou',\n",
    "    'Saisiyat',\n",
    "    'Yami',\n",
    "    'Thao',\n",
    "    'Kavalan',\n",
    "    'Truku',\n",
    "    'Sakizaya',\n",
    "    'Seediq',\n",
    "    'Saaroa',\n",
    "    'Kanakanavu'\n",
    "])"
   ]
  },
  {
   "cell_type": "code",
   "execution_count": 59,
   "metadata": {},
   "outputs": [],
   "source": [
    "def getRoot(tr: str):\n",
    "    # tr = tribe name with proper capitalization\n",
    "    cwd = os.getcwd()\n",
    "    folder = '.PanglossXML'\n",
    "    file = os.path.join(cwd, folder, tr, tr + \".xml\")\n",
    "    data = ET.parse(file)\n",
    "    root = data.getroot()\n",
    "    return root"
   ]
  },
  {
   "cell_type": "code",
   "execution_count": 50,
   "metadata": {},
   "outputs": [],
   "source": [
    "root = getRoot('Atayal')\n",
    "urlPairs = {k.attrib['id']: k[2].attrib['url'] for k in root}"
   ]
  },
  {
   "cell_type": "code",
   "execution_count": 58,
   "metadata": {},
   "outputs": [
    {
     "name": "stderr",
     "output_type": "stream",
     "text": [
      "100%|██████████| 16/16 [00:00<00:00, 16.32it/s]\n"
     ]
    }
   ],
   "source": [
    "for tr in tqdm(NAMES):\n",
    "    # file path setup + get xml file\n",
    "    cwd = os.getcwd()\n",
    "    folder = '.PanglossXML'\n",
    "    file = os.path.join(cwd, folder, tr, tr + \".xml\")\n",
    "    data = ET.parse(file)\n",
    "    root = data.getroot()\n",
    "\n",
    "    # parse into dict of {xml id: url to audio}\n",
    "    urlPairs = {k.attrib['id']: k[2].attrib['url'] for k in root}\n",
    "\n",
    "    # downloading loop\n",
    "    for i, (k, v) in enumerate(urlPairs.items()):\n",
    "        # check\n",
    "        assert root[i].attrib['id'] == k and root[i][2].attrib['url'] == v\n",
    "        \n",
    "        # TODO\n",
    "        audioPath = os.path.join(cwd, folder, tr)\n",
    "        root[i][2].attrib['path'] = os.path.relpath(file)\n"
   ]
  }
 ],
 "metadata": {
  "kernelspec": {
   "display_name": "Python 3",
   "language": "python",
   "name": "python3"
  },
  "language_info": {
   "codemirror_mode": {
    "name": "ipython",
    "version": 3
   },
   "file_extension": ".py",
   "mimetype": "text/x-python",
   "name": "python",
   "nbconvert_exporter": "python",
   "pygments_lexer": "ipython3",
   "version": "3.12.2"
  }
 },
 "nbformat": 4,
 "nbformat_minor": 2
}
