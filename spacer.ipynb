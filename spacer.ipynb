{
 "cells": [
  {
   "cell_type": "code",
   "execution_count": 1,
   "metadata": {},
   "outputs": [],
   "source": [
    "import re\n",
    "import sys\n",
    "import os\n",
    "import xml.etree.ElementTree as ET\n",
    "import xml\n",
    "from pathlib import Path"
   ]
  },
  {
   "cell_type": "code",
   "execution_count": 2,
   "metadata": {},
   "outputs": [
    {
     "name": "stderr",
     "output_type": "stream",
     "text": [
      "<>:40: SyntaxWarning: invalid escape sequence '\\s'\n",
      "<>:40: SyntaxWarning: invalid escape sequence '\\s'\n",
      "C:\\Users\\jmlas\\AppData\\Local\\Temp\\ipykernel_10848\\3873838076.py:40: SyntaxWarning: invalid escape sequence '\\s'\n",
      "  pattern = r\"[\\\\{0}]{1}\".format(pattern, \"(\\s+)\")\n"
     ]
    }
   ],
   "source": [
    "def getText(index):\n",
    "    folders = [folder for folder in os.listdir(os.getcwd()) if os.path.isdir(folder) and not folder[0] == \".\"]\n",
    "    folder = folders[index]\n",
    "\n",
    "    no_br_no_te = [file for file in os.listdir(folder)]\n",
    "    no_br_no_te = [file for file in no_br_no_te if re.search(r\".*no_br_no_te\\.txt\", file.lower())]\n",
    "    if len(no_br_no_te) != 1:\n",
    "        print(\"\"\"fail: more than 1 file with the 'no_br_no_te' in title.\"\"\")\n",
    "        print(\"please check filenames in folder {0}\".format(no_br_no_te))\n",
    "        exit(1)\n",
    "\n",
    "    filepath = os.path.join(os.getcwd(), folder, no_br_no_te[0])\n",
    "    text = ''\n",
    "    with open(filepath, encoding='utf8') as f:\n",
    "        text += f.read()\n",
    "        for i, line in enumerate(f):\n",
    "            if re.search(r\"^[A-Z][a-z]\", line):\n",
    "                print(i, line)\n",
    "\n",
    "    print(filepath)\n",
    "    return text, folder\n",
    "\n",
    "def clipper(text):\n",
    "    # trim the fronts\n",
    "    spaced = text\n",
    "    pat = r'^[^a-zA-Z^\\']+\\.'\n",
    "    spaced = re.sub(pat, \"\", spaced)\n",
    "\n",
    "    pats = ['.', '?', '!', '。', '？', '！']\n",
    "    quotes = ['\"', '「', '」']\n",
    "\n",
    "    # trim the quotes\n",
    "    for q in quotes:\n",
    "        pattern = r\"{0}\".format(q)\n",
    "        spaced = re.sub(pattern, \"\", spaced)\n",
    "\n",
    "    # space \n",
    "    for punc in pats:\n",
    "        pattern = punc\n",
    "        pattern = r\"[\\\\{0}]{1}\".format(pattern, \"(\\s+)\")\n",
    "        spaced = re.sub(pattern, r\"{0}\\n\".format(punc), spaced)\n",
    "\n",
    "    # return\n",
    "    return spaced.split(\"\\n\")\n",
    "\n",
    "# a warning will be thrown, but does not matter "
   ]
  },
  {
   "cell_type": "code",
   "execution_count": 4,
   "metadata": {},
   "outputs": [
    {
     "name": "stdout",
     "output_type": "stream",
     "text": [
      "c:\\Users\\jmlas\\Documents\\Projects\\EndangeredLanguageL3\\Amis\\Amis_no_br_no_te.txt\n",
      "c:\\Users\\jmlas\\Documents\\Projects\\EndangeredLanguageL3\\Atayal\\Atayal_no_br_no_te.txt\n",
      "c:\\Users\\jmlas\\Documents\\Projects\\EndangeredLanguageL3\\bunun\\bunun_no_br_no_te.txt\n",
      "c:\\Users\\jmlas\\Documents\\Projects\\EndangeredLanguageL3\\Kanakanavu\\Kanakanavu_no_br_no_te.txt\n",
      "c:\\Users\\jmlas\\Documents\\Projects\\EndangeredLanguageL3\\Kavalan\\Kavalan_no_br_no_te.txt\n",
      "c:\\Users\\jmlas\\Documents\\Projects\\EndangeredLanguageL3\\Paiwan\\Paiwan_no_br_no_te.txt\n",
      "c:\\Users\\jmlas\\Documents\\Projects\\EndangeredLanguageL3\\Puyuma\\Puyuma_no_br_no_te.txt\n",
      "c:\\Users\\jmlas\\Documents\\Projects\\EndangeredLanguageL3\\Rukai\\Rukai_no_br_no_te.txt\n",
      "c:\\Users\\jmlas\\Documents\\Projects\\EndangeredLanguageL3\\Saaroa\\Saaroa_no_br_no_te.txt\n",
      "c:\\Users\\jmlas\\Documents\\Projects\\EndangeredLanguageL3\\Saisiyat\\Saisiyat_no_br_no_te.txt\n",
      "c:\\Users\\jmlas\\Documents\\Projects\\EndangeredLanguageL3\\Sakizaya\\Sakizaya_no_br_no_te.txt\n",
      "c:\\Users\\jmlas\\Documents\\Projects\\EndangeredLanguageL3\\Seediq\\Seediq_no_br_no_te.txt\n",
      "c:\\Users\\jmlas\\Documents\\Projects\\EndangeredLanguageL3\\Thao\\Thao_no_br_no_te.txt\n",
      "c:\\Users\\jmlas\\Documents\\Projects\\EndangeredLanguageL3\\Truku\\Truku_no_br_no_te.txt\n",
      "c:\\Users\\jmlas\\Documents\\Projects\\EndangeredLanguageL3\\Tsou\\Tsou_no_br_no_te.txt\n",
      "c:\\Users\\jmlas\\Documents\\Projects\\EndangeredLanguageL3\\yami\\yami_no_br_no_te.txt\n"
     ]
    }
   ],
   "source": [
    "for i in range(16):\n",
    "    pair = getText(i)\n",
    "    text = pair[0]\n",
    "    folder = pair[1] \n",
    "    store = clipper(text)\n",
    "\n",
    "    spaced_text = store\n",
    "    trim = 2\n",
    "    spaced_text = spaced_text[0:len(spaced_text)-trim] # trim the tail \n",
    "\n",
    "    splittext = spaced_text\n",
    "    dist = len(splittext)\n",
    "    og, zh = [], []\n",
    "    for i in range(0, dist, 2):\n",
    "        if i > dist-1 or i+1 > dist-1:\n",
    "            break\n",
    "        og_tx = splittext[i]\n",
    "        zh_tx = splittext[i+1]\n",
    "        og.append(og_tx)\n",
    "        zh.append(zh_tx)\n",
    "\n",
    "    root = ET.Element(\"TEXT\")\n",
    "    root.set(\"xml:lang\", \"fr\")\n",
    "    root.set(\"id\", folder)\n",
    "\n",
    "    for i in range(len(og)):\n",
    "        name = folder + str(i)\n",
    "        s = ET.SubElement(root, \"S\")\n",
    "        s.set(\"id\", name)\n",
    "\n",
    "        form = ET.SubElement(s, \"FORM\")\n",
    "        form.text = og[i]\n",
    "\n",
    "        transl = ET.SubElement(s, \"TRANSL\")\n",
    "        transl.set(\"xml:lang\", \"zh\")\n",
    "        transl.text = zh[i]\n",
    "\n",
    "    tree = ET.ElementTree(root) #  visual check\n",
    "    tree.write(\".PanglossXML/{0}.xml\".format(folder), encoding=\"utf-8\", xml_declaration=True)"
   ]
  }
 ],
 "metadata": {
  "kernelspec": {
   "display_name": "Python 3",
   "language": "python",
   "name": "python3"
  },
  "language_info": {
   "codemirror_mode": {
    "name": "ipython",
    "version": 3
   },
   "file_extension": ".py",
   "mimetype": "text/x-python",
   "name": "python",
   "nbconvert_exporter": "python",
   "pygments_lexer": "ipython3",
   "version": "3.12.2"
  }
 },
 "nbformat": 4,
 "nbformat_minor": 2
}
